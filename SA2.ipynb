{
  "nbformat": 4,
  "nbformat_minor": 0,
  "metadata": {
    "colab": {
      "provenance": [],
      "authorship_tag": "ABX9TyMX+MXNuvAyIpO66Hz+0NR9",
      "include_colab_link": true
    },
    "kernelspec": {
      "name": "python3",
      "display_name": "Python 3"
    },
    "language_info": {
      "name": "python"
    }
  },
  "cells": [
    {
      "cell_type": "markdown",
      "metadata": {
        "id": "view-in-github",
        "colab_type": "text"
      },
      "source": [
        "<a href=\"https://colab.research.google.com/github/ydesquitado/APM110_SA2/blob/main/SA2.ipynb\" target=\"_parent\"><img src=\"https://colab.research.google.com/assets/colab-badge.svg\" alt=\"Open In Colab\"/></a>"
      ]
    },
    {
      "cell_type": "code",
      "source": [
        "from google.colab import drive\n",
        "\n",
        "drive.mount('/content/drive')"
      ],
      "metadata": {
        "colab": {
          "base_uri": "https://localhost:8080/"
        },
        "id": "e76kuM2G9lAA",
        "outputId": "6f1c66ae-a11f-4824-9918-b6c0bc196693"
      },
      "execution_count": 1,
      "outputs": [
        {
          "output_type": "stream",
          "name": "stdout",
          "text": [
            "Drive already mounted at /content/drive; to attempt to forcibly remount, call drive.mount(\"/content/drive\", force_remount=True).\n"
          ]
        }
      ]
    },
    {
      "cell_type": "code",
      "source": [
        "import pandas as pd\n",
        "import numpy as np\n",
        "import scipy.stats as stats\n",
        "import matplotlib.pyplot as plt\n",
        "\n",
        "path = \"/content/drive/MyDrive/BTC Data with Datetime.csv\""
      ],
      "metadata": {
        "id": "cj2cuA-k3_5V"
      },
      "execution_count": 2,
      "outputs": []
    },
    {
      "cell_type": "code",
      "source": [
        "df = pd.read_csv(path)\n",
        "filt = df['Datetime'] >= '2012-01-01'\n",
        "\n",
        "dff = df[filt]\n",
        "\n",
        "dff = dff.dropna()\n",
        "dff.fillna(0)"
      ],
      "metadata": {
        "colab": {
          "base_uri": "https://localhost:8080/",
          "height": 424
        },
        "id": "lKLa62y2tGMR",
        "outputId": "02b02e96-229c-4b66-a8ca-43cd0e54ccab"
      },
      "execution_count": 4,
      "outputs": [
        {
          "output_type": "execute_result",
          "data": {
            "text/plain": [
              "                    Datetime  UNIX Timestamp (ms)      Open      High  \\\n",
              "1224     2012-01-01 04:16:00        1325391360000      4.58      4.58   \n",
              "1896     2012-01-01 15:28:00        1325431680000      4.84      4.84   \n",
              "2333     2012-01-01 22:45:00        1325457900000      5.00      5.00   \n",
              "3612     2012-01-02 20:04:00        1325534640000      5.00      5.00   \n",
              "4553     2012-01-03 11:45:00        1325591100000      5.32      5.32   \n",
              "...                      ...                  ...       ...       ...   \n",
              "4857372  2021-03-30 23:56:00        1617148560000  58714.31  58714.31   \n",
              "4857373  2021-03-30 23:57:00        1617148620000  58683.97  58693.43   \n",
              "4857374  2021-03-30 23:58:00        1617148680000  58693.43  58723.84   \n",
              "4857375  2021-03-30 23:59:00        1617148740000  58742.18  58770.38   \n",
              "4857376  2021-03-31 00:00:00        1617148800000  58767.75  58778.18   \n",
              "\n",
              "              Low     Close     volume  Volume_(Currency)  Weighted_Price  \n",
              "1224         4.58      4.58   1.502000           6.879160        4.580000  \n",
              "1896         4.84      4.84  10.000000          48.400000        4.840000  \n",
              "2333         5.00      5.00  10.100000          50.500000        5.000000  \n",
              "3612         5.00      5.00  19.048000          95.240000        5.000000  \n",
              "4553         5.32      5.32   2.419173          12.870000        5.320000  \n",
              "...           ...       ...        ...                ...             ...  \n",
              "4857372  58686.00  58686.00   1.384487       81259.372187    58692.753339  \n",
              "4857373  58683.97  58685.81   7.294848      428158.146640    58693.226508  \n",
              "4857374  58693.43  58723.84   1.705682      100117.070370    58696.198496  \n",
              "4857375  58742.18  58760.59   0.720415       42332.958633    58761.866202  \n",
              "4857376  58755.97  58778.18   2.712831      159417.751000    58764.349363  \n",
              "\n",
              "[3613765 rows x 9 columns]"
            ],
            "text/html": [
              "\n",
              "  <div id=\"df-d93d89b0-65a3-48a0-a649-df378fdbdf2a\">\n",
              "    <div class=\"colab-df-container\">\n",
              "      <div>\n",
              "<style scoped>\n",
              "    .dataframe tbody tr th:only-of-type {\n",
              "        vertical-align: middle;\n",
              "    }\n",
              "\n",
              "    .dataframe tbody tr th {\n",
              "        vertical-align: top;\n",
              "    }\n",
              "\n",
              "    .dataframe thead th {\n",
              "        text-align: right;\n",
              "    }\n",
              "</style>\n",
              "<table border=\"1\" class=\"dataframe\">\n",
              "  <thead>\n",
              "    <tr style=\"text-align: right;\">\n",
              "      <th></th>\n",
              "      <th>Datetime</th>\n",
              "      <th>UNIX Timestamp (ms)</th>\n",
              "      <th>Open</th>\n",
              "      <th>High</th>\n",
              "      <th>Low</th>\n",
              "      <th>Close</th>\n",
              "      <th>volume</th>\n",
              "      <th>Volume_(Currency)</th>\n",
              "      <th>Weighted_Price</th>\n",
              "    </tr>\n",
              "  </thead>\n",
              "  <tbody>\n",
              "    <tr>\n",
              "      <th>1224</th>\n",
              "      <td>2012-01-01 04:16:00</td>\n",
              "      <td>1325391360000</td>\n",
              "      <td>4.58</td>\n",
              "      <td>4.58</td>\n",
              "      <td>4.58</td>\n",
              "      <td>4.58</td>\n",
              "      <td>1.502000</td>\n",
              "      <td>6.879160</td>\n",
              "      <td>4.580000</td>\n",
              "    </tr>\n",
              "    <tr>\n",
              "      <th>1896</th>\n",
              "      <td>2012-01-01 15:28:00</td>\n",
              "      <td>1325431680000</td>\n",
              "      <td>4.84</td>\n",
              "      <td>4.84</td>\n",
              "      <td>4.84</td>\n",
              "      <td>4.84</td>\n",
              "      <td>10.000000</td>\n",
              "      <td>48.400000</td>\n",
              "      <td>4.840000</td>\n",
              "    </tr>\n",
              "    <tr>\n",
              "      <th>2333</th>\n",
              "      <td>2012-01-01 22:45:00</td>\n",
              "      <td>1325457900000</td>\n",
              "      <td>5.00</td>\n",
              "      <td>5.00</td>\n",
              "      <td>5.00</td>\n",
              "      <td>5.00</td>\n",
              "      <td>10.100000</td>\n",
              "      <td>50.500000</td>\n",
              "      <td>5.000000</td>\n",
              "    </tr>\n",
              "    <tr>\n",
              "      <th>3612</th>\n",
              "      <td>2012-01-02 20:04:00</td>\n",
              "      <td>1325534640000</td>\n",
              "      <td>5.00</td>\n",
              "      <td>5.00</td>\n",
              "      <td>5.00</td>\n",
              "      <td>5.00</td>\n",
              "      <td>19.048000</td>\n",
              "      <td>95.240000</td>\n",
              "      <td>5.000000</td>\n",
              "    </tr>\n",
              "    <tr>\n",
              "      <th>4553</th>\n",
              "      <td>2012-01-03 11:45:00</td>\n",
              "      <td>1325591100000</td>\n",
              "      <td>5.32</td>\n",
              "      <td>5.32</td>\n",
              "      <td>5.32</td>\n",
              "      <td>5.32</td>\n",
              "      <td>2.419173</td>\n",
              "      <td>12.870000</td>\n",
              "      <td>5.320000</td>\n",
              "    </tr>\n",
              "    <tr>\n",
              "      <th>...</th>\n",
              "      <td>...</td>\n",
              "      <td>...</td>\n",
              "      <td>...</td>\n",
              "      <td>...</td>\n",
              "      <td>...</td>\n",
              "      <td>...</td>\n",
              "      <td>...</td>\n",
              "      <td>...</td>\n",
              "      <td>...</td>\n",
              "    </tr>\n",
              "    <tr>\n",
              "      <th>4857372</th>\n",
              "      <td>2021-03-30 23:56:00</td>\n",
              "      <td>1617148560000</td>\n",
              "      <td>58714.31</td>\n",
              "      <td>58714.31</td>\n",
              "      <td>58686.00</td>\n",
              "      <td>58686.00</td>\n",
              "      <td>1.384487</td>\n",
              "      <td>81259.372187</td>\n",
              "      <td>58692.753339</td>\n",
              "    </tr>\n",
              "    <tr>\n",
              "      <th>4857373</th>\n",
              "      <td>2021-03-30 23:57:00</td>\n",
              "      <td>1617148620000</td>\n",
              "      <td>58683.97</td>\n",
              "      <td>58693.43</td>\n",
              "      <td>58683.97</td>\n",
              "      <td>58685.81</td>\n",
              "      <td>7.294848</td>\n",
              "      <td>428158.146640</td>\n",
              "      <td>58693.226508</td>\n",
              "    </tr>\n",
              "    <tr>\n",
              "      <th>4857374</th>\n",
              "      <td>2021-03-30 23:58:00</td>\n",
              "      <td>1617148680000</td>\n",
              "      <td>58693.43</td>\n",
              "      <td>58723.84</td>\n",
              "      <td>58693.43</td>\n",
              "      <td>58723.84</td>\n",
              "      <td>1.705682</td>\n",
              "      <td>100117.070370</td>\n",
              "      <td>58696.198496</td>\n",
              "    </tr>\n",
              "    <tr>\n",
              "      <th>4857375</th>\n",
              "      <td>2021-03-30 23:59:00</td>\n",
              "      <td>1617148740000</td>\n",
              "      <td>58742.18</td>\n",
              "      <td>58770.38</td>\n",
              "      <td>58742.18</td>\n",
              "      <td>58760.59</td>\n",
              "      <td>0.720415</td>\n",
              "      <td>42332.958633</td>\n",
              "      <td>58761.866202</td>\n",
              "    </tr>\n",
              "    <tr>\n",
              "      <th>4857376</th>\n",
              "      <td>2021-03-31 00:00:00</td>\n",
              "      <td>1617148800000</td>\n",
              "      <td>58767.75</td>\n",
              "      <td>58778.18</td>\n",
              "      <td>58755.97</td>\n",
              "      <td>58778.18</td>\n",
              "      <td>2.712831</td>\n",
              "      <td>159417.751000</td>\n",
              "      <td>58764.349363</td>\n",
              "    </tr>\n",
              "  </tbody>\n",
              "</table>\n",
              "<p>3613765 rows × 9 columns</p>\n",
              "</div>\n",
              "      <button class=\"colab-df-convert\" onclick=\"convertToInteractive('df-d93d89b0-65a3-48a0-a649-df378fdbdf2a')\"\n",
              "              title=\"Convert this dataframe to an interactive table.\"\n",
              "              style=\"display:none;\">\n",
              "        \n",
              "  <svg xmlns=\"http://www.w3.org/2000/svg\" height=\"24px\"viewBox=\"0 0 24 24\"\n",
              "       width=\"24px\">\n",
              "    <path d=\"M0 0h24v24H0V0z\" fill=\"none\"/>\n",
              "    <path d=\"M18.56 5.44l.94 2.06.94-2.06 2.06-.94-2.06-.94-.94-2.06-.94 2.06-2.06.94zm-11 1L8.5 8.5l.94-2.06 2.06-.94-2.06-.94L8.5 2.5l-.94 2.06-2.06.94zm10 10l.94 2.06.94-2.06 2.06-.94-2.06-.94-.94-2.06-.94 2.06-2.06.94z\"/><path d=\"M17.41 7.96l-1.37-1.37c-.4-.4-.92-.59-1.43-.59-.52 0-1.04.2-1.43.59L10.3 9.45l-7.72 7.72c-.78.78-.78 2.05 0 2.83L4 21.41c.39.39.9.59 1.41.59.51 0 1.02-.2 1.41-.59l7.78-7.78 2.81-2.81c.8-.78.8-2.07 0-2.86zM5.41 20L4 18.59l7.72-7.72 1.47 1.35L5.41 20z\"/>\n",
              "  </svg>\n",
              "      </button>\n",
              "      \n",
              "  <style>\n",
              "    .colab-df-container {\n",
              "      display:flex;\n",
              "      flex-wrap:wrap;\n",
              "      gap: 12px;\n",
              "    }\n",
              "\n",
              "    .colab-df-convert {\n",
              "      background-color: #E8F0FE;\n",
              "      border: none;\n",
              "      border-radius: 50%;\n",
              "      cursor: pointer;\n",
              "      display: none;\n",
              "      fill: #1967D2;\n",
              "      height: 32px;\n",
              "      padding: 0 0 0 0;\n",
              "      width: 32px;\n",
              "    }\n",
              "\n",
              "    .colab-df-convert:hover {\n",
              "      background-color: #E2EBFA;\n",
              "      box-shadow: 0px 1px 2px rgba(60, 64, 67, 0.3), 0px 1px 3px 1px rgba(60, 64, 67, 0.15);\n",
              "      fill: #174EA6;\n",
              "    }\n",
              "\n",
              "    [theme=dark] .colab-df-convert {\n",
              "      background-color: #3B4455;\n",
              "      fill: #D2E3FC;\n",
              "    }\n",
              "\n",
              "    [theme=dark] .colab-df-convert:hover {\n",
              "      background-color: #434B5C;\n",
              "      box-shadow: 0px 1px 3px 1px rgba(0, 0, 0, 0.15);\n",
              "      filter: drop-shadow(0px 1px 2px rgba(0, 0, 0, 0.3));\n",
              "      fill: #FFFFFF;\n",
              "    }\n",
              "  </style>\n",
              "\n",
              "      <script>\n",
              "        const buttonEl =\n",
              "          document.querySelector('#df-d93d89b0-65a3-48a0-a649-df378fdbdf2a button.colab-df-convert');\n",
              "        buttonEl.style.display =\n",
              "          google.colab.kernel.accessAllowed ? 'block' : 'none';\n",
              "\n",
              "        async function convertToInteractive(key) {\n",
              "          const element = document.querySelector('#df-d93d89b0-65a3-48a0-a649-df378fdbdf2a');\n",
              "          const dataTable =\n",
              "            await google.colab.kernel.invokeFunction('convertToInteractive',\n",
              "                                                     [key], {});\n",
              "          if (!dataTable) return;\n",
              "\n",
              "          const docLinkHtml = 'Like what you see? Visit the ' +\n",
              "            '<a target=\"_blank\" href=https://colab.research.google.com/notebooks/data_table.ipynb>data table notebook</a>'\n",
              "            + ' to learn more about interactive tables.';\n",
              "          element.innerHTML = '';\n",
              "          dataTable['output_type'] = 'display_data';\n",
              "          await google.colab.output.renderOutput(dataTable, element);\n",
              "          const docLink = document.createElement('div');\n",
              "          docLink.innerHTML = docLinkHtml;\n",
              "          element.appendChild(docLink);\n",
              "        }\n",
              "      </script>\n",
              "    </div>\n",
              "  </div>\n",
              "  "
            ]
          },
          "metadata": {},
          "execution_count": 4
        }
      ]
    },
    {
      "cell_type": "code",
      "source": [
        "to_returns = dff['Close'].pct_change()\n",
        "dff['Returns'] = to_returns"
      ],
      "metadata": {
        "id": "Nb9giXc_qecn"
      },
      "execution_count": 5,
      "outputs": []
    },
    {
      "cell_type": "code",
      "source": [
        "# dff.drop(['Return'], axis = 1, inplace = True)\n",
        "# dff.drop(['Mid'], axis = 1, inplace = True)"
      ],
      "metadata": {
        "id": "o6SelyZWsP0n"
      },
      "execution_count": 6,
      "outputs": []
    },
    {
      "cell_type": "code",
      "source": [
        "high_low_ave = ['High', 'Low']\n",
        "dff['Mid'] = dff[high_low_ave].mean(axis=1)\n",
        "\n",
        "returns = dff['Returns']\n",
        "returns = returns.dropna()"
      ],
      "metadata": {
        "colab": {
          "base_uri": "https://localhost:8080/"
        },
        "id": "eV5CnVfMryVL",
        "outputId": "c26a7d91-a78e-4841-dcba-04a1cfe6df1b"
      },
      "execution_count": 16,
      "outputs": [
        {
          "output_type": "execute_result",
          "data": {
            "text/plain": [
              "1896       0.056769\n",
              "2333       0.033058\n",
              "3612       0.000000\n",
              "4553       0.064000\n",
              "4710      -0.033835\n",
              "             ...   \n",
              "4857372   -0.000482\n",
              "4857373   -0.000003\n",
              "4857374    0.000648\n",
              "4857375    0.000626\n",
              "4857376    0.000299\n",
              "Name: Returns, Length: 3613764, dtype: float64"
            ]
          },
          "metadata": {},
          "execution_count": 16
        }
      ]
    },
    {
      "cell_type": "code",
      "source": [
        "plt.hist(dff['Returns'], bins='auto', density=True, color='green', edgecolor='black')\n",
        "\n",
        "plt.xlabel('Returns')\n",
        "plt.ylabel('Density')\n",
        "plt.title('Histogram of Bitcoin Returns')\n",
        "\n",
        "plt.show()"
      ],
      "metadata": {
        "id": "TIh0iWcstR0E"
      },
      "execution_count": null,
      "outputs": []
    },
    {
      "cell_type": "markdown",
      "source": [
        "# Normal Distribution"
      ],
      "metadata": {
        "id": "0h4jyLSU3KKC"
      }
    },
    {
      "cell_type": "code",
      "execution_count": 23,
      "metadata": {
        "id": "uNKuUEXenyUc",
        "colab": {
          "base_uri": "https://localhost:8080/"
        },
        "outputId": "7c0d06e3-ba93-47c6-e141-746acd7c06dd"
      },
      "outputs": [
        {
          "output_type": "execute_result",
          "data": {
            "text/plain": [
              "(0.00011281664590589813, 0.20431613263762724)"
            ]
          },
          "metadata": {},
          "execution_count": 23
        }
      ],
      "source": [
        "params_norm = stats.norm.fit(returns)\n",
        "params_norm"
      ]
    },
    {
      "cell_type": "markdown",
      "source": [
        "# Laplace Distribution"
      ],
      "metadata": {
        "id": "9XqkMjcJ3KnP"
      }
    },
    {
      "cell_type": "code",
      "source": [
        "params_laplace = stats.laplace.fit(returns)\n",
        "params_laplace"
      ],
      "metadata": {
        "id": "UCSzs4Ic3fnX",
        "colab": {
          "base_uri": "https://localhost:8080/"
        },
        "outputId": "43109204-7151-44e9-eb02-a5d5f8bbf763"
      },
      "execution_count": 20,
      "outputs": [
        {
          "output_type": "execute_result",
          "data": {
            "text/plain": [
              "(0.0, 0.0011753500091878123)"
            ]
          },
          "metadata": {},
          "execution_count": 20
        }
      ]
    },
    {
      "cell_type": "markdown",
      "source": [
        "# Gamma Distribution"
      ],
      "metadata": {
        "id": "ONOFWZv93K4A"
      }
    },
    {
      "cell_type": "code",
      "source": [
        "params_gamma = stats.gamma.fit(returns)\n",
        "params_gamma"
      ],
      "metadata": {
        "id": "ZnmUbbuE3gNw",
        "colab": {
          "base_uri": "https://localhost:8080/"
        },
        "outputId": "b195e74f-eaed-4366-c1dd-2f2e1e4f14f1"
      },
      "execution_count": 21,
      "outputs": [
        {
          "output_type": "execute_result",
          "data": {
            "text/plain": [
              "(1.838410389244527e-06, -0.13286713286713295, 0.6913967769688074)"
            ]
          },
          "metadata": {},
          "execution_count": 21
        }
      ]
    },
    {
      "cell_type": "markdown",
      "source": [
        "# Exponential Distribution"
      ],
      "metadata": {
        "id": "S-P0uvUL3aVG"
      }
    },
    {
      "cell_type": "code",
      "source": [
        "params_expon = stats.expon.fit(returns)\n",
        "params_expon"
      ],
      "metadata": {
        "id": "im15nkKO2aeY",
        "colab": {
          "base_uri": "https://localhost:8080/"
        },
        "outputId": "ea4d393c-0d83-4a61-9975-e4b75e4d35cd"
      },
      "execution_count": 22,
      "outputs": [
        {
          "output_type": "execute_result",
          "data": {
            "text/plain": [
              "(-0.9974514068234335, 0.9975642234693394)"
            ]
          },
          "metadata": {},
          "execution_count": 22
        }
      ]
    },
    {
      "cell_type": "code",
      "source": [
        "ks_norm = stats.kstest(returns, stats.norm.cdf, args = params_norm)\n",
        "\n",
        "ks_laplace = stats.kstest(returns, stats.laplace.cdf, args = params_laplace)\n",
        "\n",
        "ks_gamma = stats.kstest(returns, stats.gamma.cdf, args = params_gamma)\n",
        "\n",
        "ks_expon = stats.kstest(returns, stats.expon.cdf, args = params_expon)"
      ],
      "metadata": {
        "id": "ep1k9Sf20S_W"
      },
      "execution_count": 38,
      "outputs": []
    },
    {
      "cell_type": "code",
      "source": [
        "print(ks_norm)\n",
        "print(ks_laplace)\n",
        "print(ks_gamma)\n",
        "print(ks_expon)"
      ],
      "metadata": {
        "colab": {
          "base_uri": "https://localhost:8080/"
        },
        "id": "ei8dtWm91ajz",
        "outputId": "1f0a41db-5aba-49da-8f7a-d4a2b7ddeda8"
      },
      "execution_count": 39,
      "outputs": [
        {
          "output_type": "stream",
          "name": "stdout",
          "text": [
            "KstestResult(statistic=0.47944936920479986, pvalue=0.0, statistic_location=0.007670672462285921, statistic_sign=1)\n",
            "KstestResult(statistic=0.09734984275462344, pvalue=0.0, statistic_location=-0.00013532003187544106, statistic_sign=-1)\n",
            "KstestResult(statistic=0.999987955841104, pvalue=0.0, statistic_location=-0.12142857142857133, statistic_sign=-1)\n",
            "KstestResult(statistic=0.6256241456833058, pvalue=0.0, statistic_location=-0.012500000000000067, statistic_sign=-1)\n"
          ]
        }
      ]
    },
    {
      "cell_type": "markdown",
      "source": [
        "# Conclusion\n",
        "\n",
        "According to the [article](https://medium.com/analytics-vidhya/modelling-bitcoin-returns-e6c3d286c00f) by Pedro Guilherme Frade Moro, the lower the D, a statistic obtained from the Kolmogorov-Smirnov Test (kstest), \"*indicates that the probability that the samples correspond to the same distribution is greater.*\" Among the bunch, Normal, Laplace, Gamma, and Exponential, Laplace has the lowest D value, followed by Normal, then Exponential, and lastly Gamma.\n",
        "\n",
        "Therefore, it is safe to conclude that **Laplace Distribution** is the best among the tested distributions."
      ],
      "metadata": {
        "id": "PcUt-50o4Gxd"
      }
    }
  ]
}